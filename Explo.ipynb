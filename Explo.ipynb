{
  "nbformat": 4,
  "nbformat_minor": 0,
  "metadata": {
    "colab": {
      "provenance": []
    },
    "kernelspec": {
      "name": "python3",
      "display_name": "Python 3"
    },
    "language_info": {
      "name": "python"
    }
  },
  "cells": [
    {
      "cell_type": "code",
      "execution_count": 1,
      "metadata": {
        "id": "JmZeVNMU-lkw"
      },
      "outputs": [],
      "source": [
        "import random\n",
        "import matplotlib.pyplot as plt\n",
        "import math\n",
        "import copy\n",
        "import random"
      ]
    },
    {
      "cell_type": "code",
      "source": [
        "x = [13.4, 84.7, 76.3, 25.5, 49.5, 44.9, 65.1, 78.8, 9.3, 2.8, 83.5, 43.2, 76.2, 0.2, 44.5, 72.1, 22.8]\n",
        "y = [2.5, 54.1, 93.9, 38.1, 21.6, 42.2, 2.9, 22.1, 43.7, 49.5, 23.3, 23.0, 21.8, 45.9, 28.9, 2.1, 83.7]\n",
        "l = [0, 328, 213, 133, 911, 642, 56, 500, 578, 839, 952, 897, 292, 588, 891, 68, 795]\n",
        "e = [1000, 378, 265, 272, 1000, 720, 74, 599, 619, 867, 1034, 976, 345, 639, 988, 139, 854]"
      ],
      "metadata": {
        "id": "QWVuF28n-qz1"
      },
      "execution_count": 2,
      "outputs": []
    },
    {
      "cell_type": "code",
      "source": [
        "# eps_amp = 0.00000005\n",
        "# eps_elec = 0.0000000001\n",
        "v=1\n",
        "ptrans = 10\n",
        "mass = 1000\n",
        "f_coeff = 0.032\n",
        "cd = 0.28\n",
        "area = 1.87\n",
        "coeff_correction = 0.05\n",
        "efficiency = 0.8\n",
        "# h1, h2, h3, h4 = 0.6, 0.4, 0.6, 0.4\n",
        "# c1, c2 = 0.0009624, 2250\n",
        "# delta2 = -150\n",
        "taumax = 0.999\n",
        "taumin = 0.001\n",
        "n = 17\n",
        "q0 = 0.9\n",
        "kbw = 10\n",
        "mu = 1.5\n",
        "ns = 5\n",
        "q0 = 0.9\n",
        "rho = 0.1\n",
        "cost = [[0]*n for _ in range(n)]\n",
        "Tau = [[0.5]*n for _ in range(n)]\n",
        "eta = [[0]*n for _ in range(n)]"
      ],
      "metadata": {
        "id": "htSch1vq-uEg"
      },
      "execution_count": 3,
      "outputs": []
    },
    {
      "cell_type": "code",
      "source": [
        "def etravel(cd, area, p, v, mass, f, n, t):\n",
        "  fw = (cd * area * p * v * v) / 2\n",
        "  ff = mass * 10 * f\n",
        "  return ((ff + fw) * v * t) / n"
      ],
      "metadata": {
        "id": "MgM_aXsf-w3x"
      },
      "execution_count": 4,
      "outputs": []
    },
    {
      "cell_type": "code",
      "source": [
        "def euclidean_distance(x1, y1, x2, y2):\n",
        "    return math.sqrt((x2 - x1)**2 + (y2 - y1)**2)"
      ],
      "metadata": {
        "id": "hTzp-VWH-zd3"
      },
      "execution_count": 5,
      "outputs": []
    },
    {
      "cell_type": "code",
      "source": [
        "for i in range(n):\n",
        "    for j in range(n):\n",
        "        cost[i][j] = euclidean_distance(x[i], y[i], x[j], y[j])"
      ],
      "metadata": {
        "id": "oUB1WW_2-15T"
      },
      "execution_count": 6,
      "outputs": []
    },
    {
      "cell_type": "code",
      "source": [
        "def f(p):\n",
        "    sum = 0\n",
        "    for i in range(1, len(p)):\n",
        "        sum += cost[p[i - 1]][p[i]]\n",
        "    return sum"
      ],
      "metadata": {
        "id": "QYygTl8d-4Kr"
      },
      "execution_count": 7,
      "outputs": []
    },
    {
      "cell_type": "code",
      "source": [
        "def violations(a):\n",
        "    A = [0] * n\n",
        "    D = [0] * n\n",
        "    for i in range(1, len(a) - 1):\n",
        "        A[a[i]] = D[a[i - 1]] + cost[a[i - 1]][a[i]]\n",
        "        D[a[i]] = max(A[a[i]], e[a[i]])\n",
        "\n",
        "    w = 0\n",
        "    for i in range(n):\n",
        "        if(A[i] > l[i]):\n",
        "          w += 1\n",
        "\n",
        "    return w"
      ],
      "metadata": {
        "id": "Rgh-zidW-6De"
      },
      "execution_count": 8,
      "outputs": []
    },
    {
      "cell_type": "code",
      "source": [
        "def lex(p1, p2):\n",
        "      if(len(p2) == 0):\n",
        "            return 1\n",
        "      v1 = violations(p1)\n",
        "      v2 = violations(p2)\n",
        "      if(v1 < v2):\n",
        "          return 1\n",
        "      elif (v1 > v2):\n",
        "          return 2\n",
        "      else:\n",
        "          f1 = f(p1)\n",
        "          f2 = f(p2)\n",
        "          if(f1 <= f2):\n",
        "              return 1\n",
        "          else:\n",
        "              return 2"
      ],
      "metadata": {
        "id": "dcHPMjn8-71s"
      },
      "execution_count": 9,
      "outputs": []
    },
    {
      "cell_type": "code",
      "source": [
        "emax = lmax = -1\n",
        "emin = lmin = 100000\n",
        "for i in range(n):\n",
        "    emax = max(emax, e[i])\n",
        "    emin = min(emin, e[i])\n",
        "for i in range(n):\n",
        "    lmax = max(lmax, l[i])\n",
        "    lmin = min(lmin, l[i])\n",
        "\n",
        "cmax = -1\n",
        "cmin = 100000000000\n",
        "for i in range(n):\n",
        "    for j in range(n):\n",
        "        cmax = max(cmax, cost[i][j])\n",
        "        cmin = min(cmin, cost[i][j])"
      ],
      "metadata": {
        "id": "Tr3TdHQOmvsl"
      },
      "execution_count": 10,
      "outputs": []
    },
    {
      "cell_type": "code",
      "source": [
        "def generate_three_numbers_sum_1():\n",
        "    num1 = random.uniform(0, 1)\n",
        "    num2 = random.uniform(0, 1 - num1)\n",
        "    num3 = 1 - num1 - num2\n",
        "    return num1, num2, num3"
      ],
      "metadata": {
        "id": "tufN2Ztz_C5P"
      },
      "execution_count": 11,
      "outputs": []
    },
    {
      "cell_type": "code",
      "source": [
        "def getprod(p, eta, Tau):\n",
        "    parent = p[len(p) - 2]\n",
        "    child =  p[len(p) - 1]\n",
        "    tau = Tau[parent][child]\n",
        "    ranksum = 0\n",
        "    for i in range(len(p) - 1):\n",
        "        sorted_list = sorted(eta[p[i]], reverse = True)\n",
        "        element = eta[p[i]][p[i + 1]]\n",
        "        rank = sorted_list.index(element) + 1\n",
        "        ranksum += rank\n",
        "\n",
        "    return tau / ranksum"
      ],
      "metadata": {
        "id": "Rzn0U-Ngi4fo"
      },
      "execution_count": 12,
      "outputs": []
    },
    {
      "cell_type": "code",
      "source": [
        "def C(b, eta, Tau):\n",
        "    c = []\n",
        "    for i in range(len(b)):\n",
        "        if(len(b[i]) == n):\n",
        "            bp = copy.deepcopy(b[i])\n",
        "            bp.append(0)\n",
        "            c.append(bp)\n",
        "        for j in range(1, n):\n",
        "            bp = copy.deepcopy(b[i])\n",
        "            if j in bp:\n",
        "                continue\n",
        "            else:\n",
        "                bp.append(j)\n",
        "                c.append(bp)\n",
        "\n",
        "    prod = []\n",
        "    for i in range(len(c)):\n",
        "        pv = getprod(c[i], eta, Tau)\n",
        "        prod.append([pv, c[i]])\n",
        "        prod.sort(key=lambda x: x[0], reverse = True)\n",
        "\n",
        "    return c, prod"
      ],
      "metadata": {
        "id": "OTpF7BU1_JHb"
      },
      "execution_count": 13,
      "outputs": []
    },
    {
      "cell_type": "code",
      "source": [
        "def choosefrom(prod):\n",
        "    q = random.uniform(0, 1)\n",
        "    # choose deterministically\n",
        "    if(q <= q0):\n",
        "        return prod[0][1]\n",
        "    # choose probabilistically\n",
        "    else:\n",
        "        probabilities = [element[0] for element in prod]\n",
        "        elements = [element[1] for element in prod]\n",
        "        selected_element = random.choices(elements, weights = probabilities, k = 1)[0]\n",
        "        return selected_element"
      ],
      "metadata": {
        "id": "k4bWws_-_N6J"
      },
      "execution_count": 14,
      "outputs": []
    },
    {
      "cell_type": "code",
      "source": [
        "def make_eta(hc, hl, he):\n",
        "    eta = [[0] * n for _ in range(n)]\n",
        "    for i in range(n):\n",
        "        for j in range(n):\n",
        "            eta[i][j] = hc * (cmax - cost[i][j]) / (cmax - cmin) + hl * (lmax - l[j]) / (lmax - lmin) + he *(emax - e[j]) / (emax - emin)\n",
        "    return eta"
      ],
      "metadata": {
        "id": "5VVz6Mf0_PUl"
      },
      "execution_count": 15,
      "outputs": []
    },
    {
      "cell_type": "code",
      "source": [
        "def checkcf(cf, bs_update):\n",
        "    if(bs_update == True):\n",
        "        return  0, 0, 1\n",
        "    else:\n",
        "        if(cf < 0.4):\n",
        "            return 1, 0, 0\n",
        "        elif (cf < 0.6):\n",
        "            return 2/3, 1/3, 0\n",
        "        elif (cf < 0.8):\n",
        "            return 1/3, 2/3, 0\n",
        "        else:\n",
        "            return 0, 1, 0"
      ],
      "metadata": {
        "id": "GQP5ZUk1_RXR"
      },
      "execution_count": 16,
      "outputs": []
    },
    {
      "cell_type": "code",
      "source": [
        "def ApplyPheromoneUpdate(cf, bs_update, Tau, pib, prb, pbf):\n",
        "    kib, krb, kbf = checkcf(cd, bs_update)\n",
        "    eps = [[0] * n for _ in range(n)]\n",
        "    for i in range(n):\n",
        "        for j in range(n):\n",
        "            if(pib.index(j) > pib.index(i)):\n",
        "                Pib = 1\n",
        "            if(prb.index(j) > prb.index(i)):\n",
        "                Prb = 1\n",
        "            if(pbf.index(j) > pbf.index(i)):\n",
        "                Pbf = 1\n",
        "            eps[i][j] = kib * Pib + krb * Prb + kbf * Pbf\n",
        "\n",
        "    for i in range(n):\n",
        "        for j in range(n):\n",
        "            Tau[i][j] = Tau[i][j] + rho * (eps[i][j] - Tau[i][j])"
      ],
      "metadata": {
        "id": "7Wd-xWwh_TyF"
      },
      "execution_count": 17,
      "outputs": []
    },
    {
      "cell_type": "code",
      "source": [
        "def ComputeConvergenceFactor(Tau):\n",
        "    sum = 0\n",
        "    for i in range(n):\n",
        "        for j in range(n):\n",
        "            sum += max(taumax-Tau[i][j], Tau[i][j] - taumin)\n",
        "    den = n * n * (taumax - taumin)\n",
        "    div = sum / den\n",
        "    cf = 2 * (div - 0.5)\n",
        "    return cf"
      ],
      "metadata": {
        "id": "u1D_sWu1_WHY"
      },
      "execution_count": 18,
      "outputs": []
    },
    {
      "cell_type": "code",
      "source": [
        "def is_time_window_infeasible(i, j):\n",
        "    if(e[i] + cost[i][j] > l[j]):\n",
        "        return True\n",
        "    else:\n",
        "        return False"
      ],
      "metadata": {
        "id": "VGgHT6gE_YHL"
      },
      "execution_count": 19,
      "outputs": []
    },
    {
      "cell_type": "code",
      "source": [
        "def pbs(kbw, mu, Tau):\n",
        "      b = [[0]]\n",
        "      hc, hl, he = generate_three_numbers_sum_1()\n",
        "      eta = make_eta(hc, hl, he)\n",
        "      bfinal = []\n",
        "      for t in range(n):\n",
        "          c, prod = C(b, eta, Tau)\n",
        "          b = []\n",
        "          for  k in range(min(int(mu * kbw), len(c))):\n",
        "              pj = choosefrom(prod)\n",
        "              b.append(pj)\n",
        "              c.remove(pj)\n",
        "              for i in range(len(prod)):\n",
        "                  if(prod[i][1] == pj):\n",
        "                      prod.pop(i)\n",
        "                      break\n",
        "          b = b[:kbw]\n",
        "      vio = []\n",
        "      for i in range(kbw):\n",
        "          vio.append([violations(b[i]), i])\n",
        "      vio.sort(key=lambda x: x[0])\n",
        "      return b[vio[0][1]]"
      ],
      "metadata": {
        "id": "_eRw_8tJ_aTH"
      },
      "execution_count": 20,
      "outputs": []
    },
    {
      "cell_type": "code",
      "source": [
        "def swap(a, k):\n",
        "    x = a[k]\n",
        "    a[k] = a[k + 1]\n",
        "    a[k + 1] =  x\n",
        "    return a"
      ],
      "metadata": {
        "id": "f2h9q_27_crQ"
      },
      "execution_count": 21,
      "outputs": []
    },
    {
      "cell_type": "code",
      "source": [
        "def localsearch(p):\n",
        "    p_best = p\n",
        "    for k in range(1, n-1):\n",
        "        p1 = p\n",
        "        if (is_time_window_infeasible(p1[k], p1[k + 1]) == False):\n",
        "           p1 = swap(p1, k)\n",
        "           val = lex(p1, p_best)\n",
        "           if val == 1 :\n",
        "              p_best = p1\n",
        "           p2 = p1\n",
        "           for d in range(k + 1, n-1):\n",
        "               if (is_time_window_infeasible(p1[d], p1[d + 1])):\n",
        "                  break\n",
        "               p1 = swap(p1, d)\n",
        "               val = lex(p1, p_best)\n",
        "               if val == 1 :\n",
        "                  p_best = p1\n",
        "           p1 = p2\n",
        "           for d in range(k - 1, 0, -1):\n",
        "               if (is_time_window_infeasible(p1[d], p1[d + 1])):\n",
        "                  break\n",
        "               p1 = swap(p1, d)\n",
        "               val2 = lex(p1, p_best)\n",
        "               if val2 == 1 :\n",
        "                  p_best = p1\n",
        "    return p_best"
      ],
      "metadata": {
        "id": "zq-MlAT5_eUb"
      },
      "execution_count": 22,
      "outputs": []
    },
    {
      "cell_type": "code",
      "source": [
        "def beam_aco(kbw, mu, q0, Tau):\n",
        "    pbf = []\n",
        "    prb = []\n",
        "    cf = 0\n",
        "    bs_update = False\n",
        "    for i in range(n):\n",
        "        for j in range(n):\n",
        "            Tau[i][j] = 0.5\n",
        "    for k in range(2):\n",
        "        pib = pbs(kbw, mu, Tau)\n",
        "        print(pib)\n",
        "        pib = localsearch(pib)\n",
        "        print(pib)\n",
        "        if(lex(pib, prb) == 1):\n",
        "            prb = pib\n",
        "        if(lex(pib, pbf) == 1):\n",
        "            pbf = pib\n",
        "        cf = ComputeConvergenceFactor(Tau)\n",
        "        print(pbf)\n",
        "        print(cf)\n",
        "        if (bs_update == True and cf > 0.99):\n",
        "            for i in range(n):\n",
        "                for j in range(n):\n",
        "                    Tau[i][j] = 0.5\n",
        "            prb = []\n",
        "            bs_update = False\n",
        "        else:\n",
        "            if(cf > 0.99):\n",
        "                bs_update = True\n",
        "                print(pib)\n",
        "                print(prb)\n",
        "                print(pbf)\n",
        "                ApplyPheromoneUpdate(cf, bs_update, Tau, pib, prb, pbf)\n",
        "    return pbf"
      ],
      "metadata": {
        "id": "TDLqkI6d_gVO"
      },
      "execution_count": 25,
      "outputs": []
    },
    {
      "cell_type": "code",
      "source": [
        "print(beam_aco(kbw, mu, q0, Tau))"
      ],
      "metadata": {
        "colab": {
          "base_uri": "https://localhost:8080/"
        },
        "id": "jwvY6ZO8_jBM",
        "outputId": "fed59307-e96a-4cf2-a67e-72372762e1b5"
      },
      "execution_count": 26,
      "outputs": [
        {
          "output_type": "stream",
          "name": "stdout",
          "text": [
            "[0, 3, 5, 14, 6, 15, 10, 12, 7, 1, 2, 16, 8, 9, 13, 11, 4, 0]\n",
            "[0, 5, 14, 10, 16, 9, 11, 7, 3, 6, 12, 1, 15, 8, 4, 13, 2, 0]\n",
            "[0, 5, 14, 10, 16, 9, 11, 7, 3, 6, 12, 1, 15, 8, 4, 13, 2, 0]\n",
            "-4.551914400963142e-15\n",
            "[0, 3, 8, 9, 13, 5, 6, 15, 10, 7, 12, 1, 2, 16, 14, 4, 11, 0]\n",
            "[0, 10, 8, 9, 16, 13, 5, 3, 6, 7, 12, 1, 15, 14, 4, 11, 2, 0]\n",
            "[0, 5, 14, 10, 16, 9, 11, 7, 3, 6, 12, 1, 15, 8, 4, 13, 2, 0]\n",
            "-4.551914400963142e-15\n",
            "[0, 5, 14, 10, 16, 9, 11, 7, 3, 6, 12, 1, 15, 8, 4, 13, 2, 0]\n"
          ]
        }
      ]
    }
  ]
}